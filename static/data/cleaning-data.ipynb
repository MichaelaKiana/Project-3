{
 "cells": [
  {
   "cell_type": "code",
   "execution_count": 21,
   "metadata": {},
   "outputs": [],
   "source": [
    "# Import libraries\n",
    "import pandas as pd\n",
    "from pymongo import MongoClient\n",
    "from pprint import pprint"
   ]
  },
  {
   "cell_type": "code",
   "execution_count": 16,
   "metadata": {},
   "outputs": [],
   "source": [
    "# Load the json file\n",
    "mongo = MongoClient(port=27017)"
   ]
  },
  {
   "cell_type": "code",
   "execution_count": 17,
   "metadata": {},
   "outputs": [
    {
     "name": "stdout",
     "output_type": "stream",
     "text": [
      "['admin', 'autosaurus', 'config', 'king-bachman', 'local', 'met', 'petsitly_marketing', 'test_db', 'uk_food']\n"
     ]
    }
   ],
   "source": [
    "# Database names for king-bachman database\n",
    "print(mongo.list_database_names())"
   ]
  },
  {
   "cell_type": "code",
   "execution_count": 18,
   "metadata": {},
   "outputs": [],
   "source": [
    "# Assign our database to a variable\n",
    "db = mongo['king-bachman']"
   ]
  },
  {
   "cell_type": "code",
   "execution_count": 19,
   "metadata": {},
   "outputs": [
    {
     "name": "stdout",
     "output_type": "stream",
     "text": [
      "['king-bachman']\n"
     ]
    }
   ],
   "source": [
    "# List the names of the collections in the database\n",
    "print(db.list_collection_names())"
   ]
  },
  {
   "cell_type": "code",
   "execution_count": 22,
   "metadata": {},
   "outputs": [
    {
     "name": "stdout",
     "output_type": "stream",
     "text": [
      "{'_id': ObjectId('64b9f6b3a2229c0ebe08e301'),\n",
      " 'accessInfo': {'accessViewStatus': 'SAMPLE',\n",
      "                'country': 'US',\n",
      "                'embeddable': True,\n",
      "                'epub': {'isAvailable': False},\n",
      "                'pdf': {'isAvailable': False},\n",
      "                'publicDomain': False,\n",
      "                'quoteSharingAllowed': False,\n",
      "                'textToSpeechPermission': 'ALLOWED_FOR_ACCESSIBILITY',\n",
      "                'viewability': 'PARTIAL',\n",
      "                'webReaderLink': 'http://play.google.com/books/reader?id=iCWgDwAAQBAJ&hl=&source=gbs_api'},\n",
      " 'etag': 'Y6JuzomXmI0',\n",
      " 'id': 'iCWgDwAAQBAJ',\n",
      " 'kind': 'books#volume',\n",
      " 'saleInfo': {'country': 'US', 'isEbook': False, 'saleability': 'NOT_FOR_SALE'},\n",
      " 'searchInfo': {'textSnippet': 'Readers of Stephen King know that Derry, '\n",
      "                               'Maine, is a place with a deep, dark hold on '\n",
      "                               'the author. It reappears in many of his books, '\n",
      "                               'including Bag of Bones, Hearts in Atlantis, '\n",
      "                               'and 11/22/63.'},\n",
      " 'selfLink': 'https://www.googleapis.com/books/v1/volumes/iCWgDwAAQBAJ',\n",
      " 'volumeInfo': {'allowAnonLogging': False,\n",
      "                'authors': ['Stephen King'],\n",
      "                'averageRating': 4,\n",
      "                'canonicalVolumeLink': 'https://books.google.com/books/about/It.html?hl=&id=iCWgDwAAQBAJ',\n",
      "                'categories': ['Fiction'],\n",
      "                'contentVersion': '0.2.0.0.preview.0',\n",
      "                'description': 'It: Chapter Two—now a major motion picture! '\n",
      "                               'Stephen King’s terrifying, classic #1 New York '\n",
      "                               'Times bestseller, “a landmark in American '\n",
      "                               'literature” (Chicago Sun-Times)—about seven '\n",
      "                               'adults who return to their hometown to '\n",
      "                               'confront a nightmare they had first stumbled '\n",
      "                               'on as teenagers…an evil without a name: It. '\n",
      "                               'Welcome to Derry, Maine. It’s a small city, a '\n",
      "                               'place as hauntingly familiar as your own '\n",
      "                               'hometown. Only in Derry the haunting is real. '\n",
      "                               'They were seven teenagers when they first '\n",
      "                               'stumbled upon the horror. Now they are '\n",
      "                               'grown-up men and women who have gone out into '\n",
      "                               'the big world to gain success and happiness. '\n",
      "                               'But the promise they made twenty-eight years '\n",
      "                               'ago calls them reunite in the same place '\n",
      "                               'where, as teenagers, they battled an evil '\n",
      "                               'creature that preyed on the city’s children. '\n",
      "                               'Now, children are being murdered again and '\n",
      "                               'their repressed memories of that terrifying '\n",
      "                               'summer return as they prepare to once again '\n",
      "                               'battle the monster lurking in Derry’s sewers. '\n",
      "                               'Readers of Stephen King know that Derry, '\n",
      "                               'Maine, is a place with a deep, dark hold on '\n",
      "                               'the author. It reappears in many of his books, '\n",
      "                               'including Bag of Bones, Hearts in Atlantis, '\n",
      "                               'and 11/22/63. But it all starts with It. '\n",
      "                               '“Stephen King’s most mature work” (St. '\n",
      "                               'Petersburg Times), “It will overwhelm you…to '\n",
      "                               'be read in a well-lit room only” (Los Angeles '\n",
      "                               'Times).',\n",
      "                'imageLinks': {'smallThumbnail': 'http://books.google.com/books/content?id=iCWgDwAAQBAJ&printsec=frontcover&img=1&zoom=5&edge=curl&source=gbs_api',\n",
      "                               'thumbnail': 'http://books.google.com/books/content?id=iCWgDwAAQBAJ&printsec=frontcover&img=1&zoom=1&edge=curl&source=gbs_api'},\n",
      "                'industryIdentifiers': [{'identifier': '9781982127794',\n",
      "                                         'type': 'ISBN_13'},\n",
      "                                        {'identifier': '1982127791',\n",
      "                                         'type': 'ISBN_10'}],\n",
      "                'infoLink': 'http://books.google.com/books?id=iCWgDwAAQBAJ&dq=inauthor:Stephen+King&hl=&source=gbs_api',\n",
      "                'language': 'en',\n",
      "                'maturityRating': 'NOT_MATURE',\n",
      "                'pageCount': 1184,\n",
      "                'panelizationSummary': {'containsEpubBubbles': False,\n",
      "                                        'containsImageBubbles': False},\n",
      "                'previewLink': 'http://books.google.com/books?id=iCWgDwAAQBAJ&printsec=frontcover&dq=inauthor:Stephen+King&hl=&cd=1&source=gbs_api',\n",
      "                'printType': 'BOOK',\n",
      "                'publishedDate': '2019-07-30',\n",
      "                'publisher': 'Scribner',\n",
      "                'ratingsCount': 117,\n",
      "                'readingModes': {'image': False, 'text': False},\n",
      "                'subtitle': 'A Novel',\n",
      "                'title': 'It'}}\n"
     ]
    }
   ],
   "source": [
    "# Review a document in the database\n",
    "pprint(db['king-bachman'].find_one())"
   ]
  },
  {
   "cell_type": "code",
   "execution_count": 23,
   "metadata": {},
   "outputs": [],
   "source": [
    "# Assign the collection to a variable\n",
    "collection = db['king-bachman']"
   ]
  },
  {
   "cell_type": "markdown",
   "metadata": {},
   "source": [
    "# Review Data"
   ]
  },
  {
   "cell_type": "code",
   "execution_count": null,
   "metadata": {},
   "outputs": [],
   "source": [
    "# Count the number of rows in the dataset\n"
   ]
  },
  {
   "cell_type": "code",
   "execution_count": null,
   "metadata": {},
   "outputs": [],
   "source": [
    "# Count number of books by each author\n",
    "# Check that all authors are either Stephen King or Richard Bachman\n"
   ]
  },
  {
   "cell_type": "markdown",
   "metadata": {},
   "source": [
    "# Duplicate books"
   ]
  },
  {
   "cell_type": "code",
   "execution_count": null,
   "metadata": {},
   "outputs": [],
   "source": [
    "# Search the database to determine \n",
    "# if there are any duplicate titles for books within the database\n"
   ]
  }
 ],
 "metadata": {
  "kernelspec": {
   "display_name": "dev",
   "language": "python",
   "name": "python3"
  },
  "language_info": {
   "codemirror_mode": {
    "name": "ipython",
    "version": 3
   },
   "file_extension": ".py",
   "mimetype": "text/x-python",
   "name": "python",
   "nbconvert_exporter": "python",
   "pygments_lexer": "ipython3",
   "version": "3.10.10"
  },
  "orig_nbformat": 4
 },
 "nbformat": 4,
 "nbformat_minor": 2
}
