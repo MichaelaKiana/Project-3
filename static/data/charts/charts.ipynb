{
 "cells": [
  {
   "cell_type": "code",
   "execution_count": 3,
   "metadata": {},
   "outputs": [],
   "source": [
    "# Import libraries\n",
    "import pandas as pd\n",
    "from pymongo import MongoClient\n",
    "from pprint import pprint\n",
    "# Import Dependencies\n",
    "import matplotlib.pyplot as plt\n",
    "import pandas as pd"
   ]
  },
  {
   "cell_type": "code",
   "execution_count": 4,
   "metadata": {},
   "outputs": [],
   "source": [
    "# Load the json file\n",
    "mongo = MongoClient(port=27017)"
   ]
  },
  {
   "cell_type": "code",
   "execution_count": 5,
   "metadata": {},
   "outputs": [
    {
     "name": "stdout",
     "output_type": "stream",
     "text": [
      "['admin', 'config', 'king-bachman', 'local', 'uk_food']\n"
     ]
    }
   ],
   "source": [
    "# Database names for king-bachman database\n",
    "print(mongo.list_database_names())"
   ]
  },
  {
   "cell_type": "code",
   "execution_count": 6,
   "metadata": {},
   "outputs": [],
   "source": [
    "# Assign our database to a variable\n",
    "db = mongo['king-bachman']"
   ]
  },
  {
   "cell_type": "code",
   "execution_count": 7,
   "metadata": {},
   "outputs": [
    {
     "name": "stdout",
     "output_type": "stream",
     "text": [
      "['king-bachman']\n"
     ]
    }
   ],
   "source": [
    "# List the names of the collections in the database\n",
    "print(db.list_collection_names())"
   ]
  },
  {
   "cell_type": "code",
   "execution_count": 8,
   "metadata": {},
   "outputs": [
    {
     "name": "stdout",
     "output_type": "stream",
     "text": [
      "{'_id': ObjectId('64b9f6b3a2229c0ebe08e301'),\n",
      " 'accessInfo': {'accessViewStatus': 'SAMPLE',\n",
      "                'country': 'US',\n",
      "                'embeddable': True,\n",
      "                'epub': {'isAvailable': False},\n",
      "                'pdf': {'isAvailable': False},\n",
      "                'publicDomain': False,\n",
      "                'quoteSharingAllowed': False,\n",
      "                'textToSpeechPermission': 'ALLOWED_FOR_ACCESSIBILITY',\n",
      "                'viewability': 'PARTIAL',\n",
      "                'webReaderLink': 'http://play.google.com/books/reader?id=iCWgDwAAQBAJ&hl=&source=gbs_api'},\n",
      " 'etag': 'Y6JuzomXmI0',\n",
      " 'id': 'iCWgDwAAQBAJ',\n",
      " 'kind': 'books#volume',\n",
      " 'saleInfo': {'country': 'US', 'isEbook': False, 'saleability': 'NOT_FOR_SALE'},\n",
      " 'searchInfo': {'textSnippet': 'Readers of Stephen King know that Derry, '\n",
      "                               'Maine, is a place with a deep, dark hold on '\n",
      "                               'the author. It reappears in many of his books, '\n",
      "                               'including Bag of Bones, Hearts in Atlantis, '\n",
      "                               'and 11/22/63.'},\n",
      " 'selfLink': 'https://www.googleapis.com/books/v1/volumes/iCWgDwAAQBAJ',\n",
      " 'volumeInfo': {'allowAnonLogging': False,\n",
      "                'authors': ['Stephen King'],\n",
      "                'averageRating': 4,\n",
      "                'canonicalVolumeLink': 'https://books.google.com/books/about/It.html?hl=&id=iCWgDwAAQBAJ',\n",
      "                'categories': ['Fiction'],\n",
      "                'contentVersion': '0.2.0.0.preview.0',\n",
      "                'description': 'It: Chapter Two—now a major motion picture! '\n",
      "                               'Stephen King’s terrifying, classic #1 New York '\n",
      "                               'Times bestseller, “a landmark in American '\n",
      "                               'literature” (Chicago Sun-Times)—about seven '\n",
      "                               'adults who return to their hometown to '\n",
      "                               'confront a nightmare they had first stumbled '\n",
      "                               'on as teenagers…an evil without a name: It. '\n",
      "                               'Welcome to Derry, Maine. It’s a small city, a '\n",
      "                               'place as hauntingly familiar as your own '\n",
      "                               'hometown. Only in Derry the haunting is real. '\n",
      "                               'They were seven teenagers when they first '\n",
      "                               'stumbled upon the horror. Now they are '\n",
      "                               'grown-up men and women who have gone out into '\n",
      "                               'the big world to gain success and happiness. '\n",
      "                               'But the promise they made twenty-eight years '\n",
      "                               'ago calls them reunite in the same place '\n",
      "                               'where, as teenagers, they battled an evil '\n",
      "                               'creature that preyed on the city’s children. '\n",
      "                               'Now, children are being murdered again and '\n",
      "                               'their repressed memories of that terrifying '\n",
      "                               'summer return as they prepare to once again '\n",
      "                               'battle the monster lurking in Derry’s sewers. '\n",
      "                               'Readers of Stephen King know that Derry, '\n",
      "                               'Maine, is a place with a deep, dark hold on '\n",
      "                               'the author. It reappears in many of his books, '\n",
      "                               'including Bag of Bones, Hearts in Atlantis, '\n",
      "                               'and 11/22/63. But it all starts with It. '\n",
      "                               '“Stephen King’s most mature work” (St. '\n",
      "                               'Petersburg Times), “It will overwhelm you…to '\n",
      "                               'be read in a well-lit room only” (Los Angeles '\n",
      "                               'Times).',\n",
      "                'imageLinks': {'smallThumbnail': 'http://books.google.com/books/content?id=iCWgDwAAQBAJ&printsec=frontcover&img=1&zoom=5&edge=curl&source=gbs_api',\n",
      "                               'thumbnail': 'http://books.google.com/books/content?id=iCWgDwAAQBAJ&printsec=frontcover&img=1&zoom=1&edge=curl&source=gbs_api'},\n",
      "                'industryIdentifiers': [{'identifier': '9781982127794',\n",
      "                                         'type': 'ISBN_13'},\n",
      "                                        {'identifier': '1982127791',\n",
      "                                         'type': 'ISBN_10'}],\n",
      "                'infoLink': 'http://books.google.com/books?id=iCWgDwAAQBAJ&dq=inauthor:Stephen+King&hl=&source=gbs_api',\n",
      "                'language': 'en',\n",
      "                'maturityRating': 'NOT_MATURE',\n",
      "                'pageCount': 1184,\n",
      "                'panelizationSummary': {'containsEpubBubbles': False,\n",
      "                                        'containsImageBubbles': False},\n",
      "                'previewLink': 'http://books.google.com/books?id=iCWgDwAAQBAJ&printsec=frontcover&dq=inauthor:Stephen+King&hl=&cd=1&source=gbs_api',\n",
      "                'printType': 'BOOK',\n",
      "                'publishedDate': '2019-07-30',\n",
      "                'publisher': 'Scribner',\n",
      "                'ratingsCount': 117,\n",
      "                'readingModes': {'image': False, 'text': False},\n",
      "                'subtitle': 'A Novel',\n",
      "                'title': 'It'}}\n"
     ]
    }
   ],
   "source": [
    "# Review a document in the database\n",
    "pprint(db['king-bachman'].find_one())"
   ]
  },
  {
   "cell_type": "code",
   "execution_count": 58,
   "metadata": {},
   "outputs": [
    {
     "data": {
      "text/plain": [
       "<Axes: title={'center': 'Number of books published by Stephen King throughout years'}, xlabel='years'>"
      ]
     },
     "execution_count": 58,
     "metadata": {},
     "output_type": "execute_result"
    },
    {
     "data": {
      "image/png": "[encoded data removed]",
      "text/plain": [
       "<Figure size 640x480 with 1 Axes>"
      ]
     },
     "metadata": {},
     "output_type": "display_data"
    }
   ],
   "source": [
    "# so we made an empty and named it publish_dates\n",
    "publish_dates = []\n",
    "# now we are got itiertae over evey single record in the database\n",
    "for x in db['king-bachman'].find({}):\n",
    "    #so we are trying to go through each record that has a published date we then split off (-) the year value\n",
    "    # if there is no published date it does nothing \n",
    "    try:\n",
    "        if 'Stephen King' in x['volumeInfo']['authors']:\n",
    "            publish_dates.append(x['volumeInfo']['publishedDate'].split('-')[0])\n",
    "    except:\n",
    "        pass\n",
    "\n",
    "\n",
    "\n",
    "pd.DataFrame({'years': publish_dates}).value_counts().plot(kind='bar', rot=75, color='r', title= \"Number of books published by Stephen King throughout years\")\n"
   ]
  },
  {
   "cell_type": "code",
   "execution_count": 60,
   "metadata": {},
   "outputs": [
    {
     "data": {
      "text/plain": [
       "<Axes: title={'center': 'Number of books published by Stephen King'}, xlabel='year'>"
      ]
     },
     "execution_count": 60,
     "metadata": {},
     "output_type": "execute_result"
    },
    {
     "data": {
      "image/png": "[encoded data removed]",
      "text/plain": [
       "<Figure size 640x480 with 1 Axes>"
      ]
     },
     "metadata": {},
     "output_type": "display_data"
    }
   ],
   "source": [
    "\n",
    "\n",
    "#\n",
    "\n",
    "\n",
    "pd.DataFrame({x:publish_dates.count(x) for x in publish_dates}.items(), columns=['year', 'books published']).set_index('year').sort_index().plot(kind='line', color='r', title= \"Number of books published by Stephen King\")\n",
    "\n",
    "# pd.DataFrame({'years': publish_dates})"
   ]
  },
  {
   "cell_type": "code",
   "execution_count": 43,
   "metadata": {},
   "outputs": [
    {
     "data": {
      "text/plain": [
       "{'king': ['2019',\n",
       "  '2011',\n",
       "  '1991',\n",
       "  '2017',\n",
       "  '2017',\n",
       "  '2012',\n",
       "  '2023',\n",
       "  '2009',\n",
       "  '2018',\n",
       "  '2021',\n",
       "  '2013',\n",
       "  '2018',\n",
       "  '2016',\n",
       "  '2008',\n",
       "  '2010',\n",
       "  '2008',\n",
       "  '2013',\n",
       "  '1999',\n",
       "  '2018',\n",
       "  '2016',\n",
       "  '2014',\n",
       "  '2021',\n",
       "  '2009',\n",
       "  '2011',\n",
       "  '2018',\n",
       "  '2002',\n",
       "  '2016',\n",
       "  '2006',\n",
       "  '1996',\n",
       "  '2019',\n",
       "  '2020',\n",
       "  '1990',\n",
       "  '2021',\n",
       "  '2021',\n",
       "  '2017',\n",
       "  '1994',\n",
       "  '2012',\n",
       "  '2006',\n",
       "  '1994',\n",
       "  '2012',\n",
       "  '1993',\n",
       "  '1986',\n",
       "  '2018',\n",
       "  '2011',\n",
       "  '2019',\n",
       "  '2012',\n",
       "  '2021',\n",
       "  '2016',\n",
       "  '2021',\n",
       "  '2019',\n",
       "  '2009',\n",
       "  '2018',\n",
       "  '2017',\n",
       "  '2008',\n",
       "  '2002',\n",
       "  '2016',\n",
       "  '2011',\n",
       "  '2016',\n",
       "  '2011',\n",
       "  '2018',\n",
       "  '2000',\n",
       "  '2018',\n",
       "  '2002',\n",
       "  '1990',\n",
       "  '2011',\n",
       "  '2023',\n",
       "  '1987',\n",
       "  '2016',\n",
       "  '2013',\n",
       "  '2009',\n",
       "  '2011',\n",
       "  '2017',\n",
       "  '2023',\n",
       "  '1987',\n",
       "  '2016',\n",
       "  '2013',\n",
       "  '2016',\n",
       "  '2009',\n",
       "  '2023',\n",
       "  '2020',\n",
       "  '2016',\n",
       "  '2023',\n",
       "  '2011',\n",
       "  '2011',\n",
       "  '2011',\n",
       "  '1992',\n",
       "  '2017',\n",
       "  '1998',\n",
       "  '2008',\n",
       "  '2016',\n",
       "  '2016',\n",
       "  '2018',\n",
       "  '2014',\n",
       "  '2012',\n",
       "  '2012',\n",
       "  '2014',\n",
       "  '1995',\n",
       "  '2016',\n",
       "  '1996',\n",
       "  '2018',\n",
       "  '2012',\n",
       "  '2013',\n",
       "  '2016',\n",
       "  '1993',\n",
       "  '1982',\n",
       "  '2002',\n",
       "  '2016',\n",
       "  '1980',\n",
       "  '2013',\n",
       "  '1999',\n",
       "  '1999',\n",
       "  '2018',\n",
       "  '2014',\n",
       "  '2018',\n",
       "  '1987',\n",
       "  '2021',\n",
       "  '1993',\n",
       "  '2011',\n",
       "  '2015',\n",
       "  '2007',\n",
       "  '1997',\n",
       "  '1999',\n",
       "  '1996',\n",
       "  '1997',\n",
       "  '1986',\n",
       "  '2021',\n",
       "  '2004',\n",
       "  '2010',\n",
       "  '2023',\n",
       "  '1998',\n",
       "  '2004',\n",
       "  '2003',\n",
       "  '1997',\n",
       "  '2020',\n",
       "  '1987',\n",
       "  '2006'],\n",
       " 'bachman': ['2007',\n",
       "  '2008',\n",
       "  '1996',\n",
       "  '1983',\n",
       "  '2006',\n",
       "  '1983',\n",
       "  '2000',\n",
       "  '1979',\n",
       "  '2020',\n",
       "  '2017',\n",
       "  '2020',\n",
       "  '2017',\n",
       "  '2017',\n",
       "  '1982',\n",
       "  '2016',\n",
       "  '2021',\n",
       "  '1981',\n",
       "  '2014',\n",
       "  '1990',\n",
       "  '2009',\n",
       "  '2014',\n",
       "  '2014',\n",
       "  '1999',\n",
       "  '1987',\n",
       "  '2014',\n",
       "  '1998',\n",
       "  '1997',\n",
       "  '2013'],\n",
       " 'other': ['2023', '1977', '1977', '2015', '2014', '1986', '1996', '2025']}"
      ]
     },
     "execution_count": 43,
     "metadata": {},
     "output_type": "execute_result"
    }
   ],
   "source": [
    "king_dates = []\n",
    "bachman_dates = []\n",
    "other_dates = []\n",
    "for x in db['king-bachman'].find({}):\n",
    "    # made three empty lists so that as we are filtering through book that have authors of Stephen King, Richard Bachman or other \n",
    "    #so we are trying to go through each record that has a published date we then split off (-) the year value\n",
    "    # if there is no published date it does nothing \n",
    "    try:\n",
    "        if 'Stephen King' in x['volumeInfo']['authors']:\n",
    "            king_dates.append(x['volumeInfo']['publishedDate'].split('-')[0])\n",
    "        elif 'Richard Bachman' in x['volumeInfo']['authors']:\n",
    "            bachman_dates.append(x['volumeInfo']['publishedDate'].split('-')[0])\n",
    "        else:\n",
    "            other_dates.append(x['volumeInfo']['publishedDate'].split('-')[0])\n",
    "\n",
    "    except:\n",
    "        pass\n",
    "data = {\n",
    "        'king': king_dates,\n",
    "        'bachman': bachman_dates,\n",
    "        'other': other_dates,\n",
    "    }\n",
    "data \n",
    "\n",
    "pd.DataFrame({x:data for x in data}.items(),columns=['year', 'books published']).set_index('year').sort_index().plot(kind='line', color='r', title= \"Number of books published by Stephen King,Richard Bachman and co authors\")\n",
    "\n"
   ]
  },
  {
   "cell_type": "code",
   "execution_count": 12,
   "metadata": {},
   "outputs": [],
   "source": [
    "#pd.DataFrame({x:publish_dates.count(x) for x in publish_dates}.items(), columns=['year', 'count']).set_index('year').sort_index().plot(kind='line')\n",
    "\n"
   ]
  }
 ],
 "metadata": {
  "kernelspec": {
   "display_name": "base",
   "language": "python",
   "name": "python3"
  },
  "language_info": {
   "codemirror_mode": {
    "name": "ipython",
    "version": 3
   },
   "file_extension": ".py",
   "mimetype": "text/x-python",
   "name": "python",
   "nbconvert_exporter": "python",
   "pygments_lexer": "ipython3",
   "version": "3.10.9"
  },
  "orig_nbformat": 4
 },
 "nbformat": 4,
 "nbformat_minor": 2
}
